{
 "cells": [
  {
   "cell_type": "markdown",
   "metadata": {},
   "source": [
    "# API 資料串接 - 以 Dcard API 實作範例\n",
    "\n",
    "* 了解 Dcard API 使用方式與回傳內容\n",
    "* 撰寫程式存取 API 且解析 JSON 格式資料\n"
   ]
  },
  {
   "cell_type": "markdown",
   "metadata": {},
   "source": [
    "## 作業目標\n",
    "\n",
    "* 請利用 API: https://www.dcard.tw/_api/forums/pet/posts?popular=true 回答下列問題：\n",
    "\n",
    "1. 這個 API 一次會回傳幾筆資料？每一筆資料包含哪些欄位？\n",
    "2. 取出每一筆資料的「標題」、「貼文時間」、「留言人數」、「按讚人數」\n",
    "3. 計算熱門/非熱門文章的「平均留言人數」與「平均按讚人數」"
   ]
  },
  {
   "cell_type": "code",
   "execution_count": 9,
   "metadata": {},
   "outputs": [
    {
     "name": "stdout",
     "output_type": "stream",
     "text": [
      "30\n",
      "id\n",
      "title\n",
      "excerpt\n",
      "anonymousSchool\n",
      "anonymousDepartment\n",
      "pinned\n",
      "forumId\n",
      "replyId\n",
      "createdAt\n",
      "updatedAt\n",
      "commentCount\n",
      "likeCount\n",
      "withNickname\n",
      "tags\n",
      "topics\n",
      "meta\n",
      "forumName\n",
      "forumAlias\n",
      "gender\n",
      "school\n",
      "replyTitle\n",
      "mediaMeta\n",
      "reactions\n",
      "hidden\n",
      "customStyle\n",
      "isSuspiciousAccount\n",
      "layout\n",
      "withImages\n",
      "withVideos\n",
      "media\n",
      "reportReasonText\n",
      "postAvatar\n"
     ]
    }
   ],
   "source": [
    "# 1. 這個 API 一次會回傳幾筆資料？每一筆資料包含哪些欄位？\n",
    "\n",
    "import requests\n",
    "r = requests.get('https://www.dcard.tw/_api/forums/pet/posts?popular=true')\n",
    "response = r.text\n",
    "import json\n",
    "data = json.loads(response)\n",
    "print(len(data))\n",
    "for x in data[0]:\n",
    "    print(x)"
   ]
  },
  {
   "cell_type": "code",
   "execution_count": 16,
   "metadata": {},
   "outputs": [
    {
     "name": "stdout",
     "output_type": "stream",
     "text": [
      "有人有看過這麼有喜感的貓嗎 2020-02-27T00:41:45.740Z 53 1305\n",
      "我的夢幻玉米蛇😭 2020-02-26T17:59:21.848Z 41 1042\n",
      "你要工人？ 2020-02-26T18:35:16.716Z 9 1040\n",
      "小蝦蝦不知道可不可以上熱門🥺 2020-02-26T22:13:53.583Z 32 243\n",
      "天氣好想拍貓 天氣不好想拍貓 2020-02-26T17:05:42.877Z 1 204\n",
      "#圖 在公園遛天竺鼠ヽ(✿ﾟ▽ﾟ)ノ 2020-02-27T08:00:49.162Z 5 66\n",
      "看起來很衰的臘腸狗 2020-02-27T03:24:54.078Z 4 49\n",
      "不喜歡洗澡的狗 2020-02-27T01:06:35.270Z 9 29\n",
      "習慣躺枕頭睡覺 2020-02-27T05:50:41.877Z 6 21\n",
      "拍屁屁奴隸的心聲 2020-02-27T13:38:01.565Z 2 19\n",
      "柴柴從後面看像什麼！ 2020-02-26T18:19:46.140Z 2 16\n",
      "朕想怎麼睡 就怎麼睡(˶‾᷄ ⁻̫ ‾᷅˵) 2020-02-27T19:53:48.404Z 0 13\n",
      "來曬一下家裡的黑狗🐶 2020-02-27T21:10:15.772Z 1 12\n",
      "來曬一下可爾必思 2020-02-27T08:19:49.020Z 1 12\n",
      "露屁屁外星人 2020-02-27T07:09:01.168Z 0 12\n",
      "當你家的貓在看風景時⋯ 2020-02-27T06:48:59.523Z 0 12\n",
      "家有小三 2020-02-27T10:14:48.735Z 0 10\n",
      "文長 我擁有全世界最棒的貓咪 2020-02-27T23:47:16.852Z 3 7\n",
      "#協尋紅貴賓#懸賞金$5000#請大家幫忙頂上去！ 2020-02-27T17:05:28.180Z 3 7\n",
      "🐔抓癢 2020-02-27T05:50:48.792Z 3 7\n",
      "學妹揪我一起看貓 2020-02-27T05:18:10.961Z 4 7\n",
      "看那顫抖的小眼眶 2020-02-27T22:52:19.976Z 2 6\n",
      "賤人！ 2020-02-27T17:57:19.700Z 1 6\n",
      "[抒發文]小狗狗去天堂了 2020-02-27T14:08:40.800Z 3 6\n",
      "從小養到大的主子真的信任我嗎 2020-02-27T08:13:49.089Z 6 6\n",
      "新手開缸小紀錄｜準備&第一天 2020-02-26T22:43:32.501Z 7 6\n",
      "回不去的喵喵 2020-02-27T01:49:34.657Z 1 5\n",
      "圖多，厭世又不失禮貌系列梗圖 2020-02-27T11:22:05.786Z 0 4\n",
      "倒下的貓 2020-02-27T06:28:59.575Z 0 4\n",
      "皮卡是金牛寶寶🐱 2020-02-27T12:06:10.610Z 1 3\n"
     ]
    }
   ],
   "source": [
    "# 2. 取出每一筆資料的「標題」、「貼文時間」、「留言人數」、「按讚人數」\n",
    "for x in data:\n",
    "    print(x['title'],x['createdAt'],x['commentCount'],x['likeCount'])\n"
   ]
  },
  {
   "cell_type": "code",
   "execution_count": 3,
   "metadata": {},
   "outputs": [
    {
     "data": {
      "text/plain": [
       "'\\nYour Code\\n'"
      ]
     },
     "execution_count": 3,
     "metadata": {},
     "output_type": "execute_result"
    }
   ],
   "source": [
    "# 3. 計算熱門/非熱門文章的「平均留言人數」與「平均按讚人數」\n",
    "\n",
    "'''\n",
    "Your Code\n",
    "'''"
   ]
  },
  {
   "cell_type": "code",
   "execution_count": null,
   "metadata": {},
   "outputs": [],
   "source": []
  },
  {
   "cell_type": "code",
   "execution_count": null,
   "metadata": {},
   "outputs": [],
   "source": []
  }
 ],
 "metadata": {
  "kernelspec": {
   "display_name": "Python 3",
   "language": "python",
   "name": "python3"
  },
  "language_info": {
   "codemirror_mode": {
    "name": "ipython",
    "version": 3
   },
   "file_extension": ".py",
   "mimetype": "text/x-python",
   "name": "python",
   "nbconvert_exporter": "python",
   "pygments_lexer": "ipython3",
   "version": "3.7.4"
  }
 },
 "nbformat": 4,
 "nbformat_minor": 2
}
